{
 "cells": [
  {
   "cell_type": "code",
   "execution_count": 11,
   "metadata": {},
   "outputs": [],
   "source": [
    "import pandas as pd\n",
    "import sklearn\n",
    "import numpy as np\n",
    "import matplotlib\n",
    "import seaborn as sns\n",
    "import sys"
   ]
  },
  {
   "cell_type": "code",
   "execution_count": 12,
   "metadata": {},
   "outputs": [
    {
     "name": "stdout",
     "output_type": "stream",
     "text": [
      "Libraries Version\n",
      "Python version: 3.10.2 (tags/v3.10.2:a58ebcc, Jan 17 2022, 14:12:15) [MSC v.1929 64 bit (AMD64)]\n",
      "Pandas Version 1.4.2\n",
      "Sklearn Version 1.0.2\n",
      "Numpy Version 1.22.3\n",
      "Matplotlib Version 3.5.2\n",
      "Seaborn Version 0.11.2\n"
     ]
    }
   ],
   "source": [
    "print(\"Libraries Version\")\n",
    "print(\"Python version: {}\".format(sys.version))\n",
    "print(\"Pandas Version {}\".format(pd.__version__))\n",
    "print(\"Sklearn Version {}\".format(sklearn.__version__))\n",
    "print(\"Numpy Version {}\".format(np.__version__))\n",
    "print(\"Matplotlib Version {}\".format(matplotlib.__version__))\n",
    "print(\"Seaborn Version {}\".format(sns.__version__))"
   ]
  }
 ],
 "metadata": {
  "interpreter": {
   "hash": "c3f886070a7a5c211a6f14e1f986f422e2565f230c05945b8f8cecaf50e6f515"
  },
  "kernelspec": {
   "display_name": "Python 3.10.2 64-bit",
   "language": "python",
   "name": "python3"
  },
  "language_info": {
   "codemirror_mode": {
    "name": "ipython",
    "version": 3
   },
   "file_extension": ".py",
   "mimetype": "text/x-python",
   "name": "python",
   "nbconvert_exporter": "python",
   "pygments_lexer": "ipython3",
   "version": "3.10.2"
  },
  "orig_nbformat": 4
 },
 "nbformat": 4,
 "nbformat_minor": 2
}
